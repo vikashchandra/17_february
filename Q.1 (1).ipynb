{
 "cells": [
  {
   "cell_type": "code",
   "execution_count": null,
   "id": "8442d5c0-b6dd-4b27-adfa-d2d9a1bf727d",
   "metadata": {},
   "outputs": [],
   "source": [
    "\"\"\"\n",
    "Q1. What is MongoDB? Explain non-relational databases in short. In which scenarios it is preferred to use\n",
    "MongoDB over SQL databases?\n",
    "\"\"\""
   ]
  },
  {
   "cell_type": "code",
   "execution_count": null,
   "id": "934abfbb-e5a0-4736-8bb9-5d91331ae21d",
   "metadata": {},
   "outputs": [],
   "source": [
    "\"\"\"\n",
    "Ans-\n",
    "\n",
    "MongoDB is a popular open-source NoSQL (non-relational) database management system that stores data in flexible, JSON-like documents. Instead of using tables and rows like in relational databases, MongoDB uses a flexible, schema-less document model, allowing for more dynamic and scalable data storage.\n",
    "\n",
    "Non-relational databases, or NoSQL databases, are a category of databases that do not rely on the traditional relational database management system (RDBMS) model. They are designed to handle large amounts of unstructured or semi-structured data and offer flexibility in data modeling. NoSQL databases can be categorized into several types, including document-oriented (like MongoDB), key-value stores, wide-column stores, and graph databases.\n",
    "\n",
    "Scenarios where MongoDB is preferred over SQL databases include:\n",
    "\n",
    "Scalability: MongoDB is designed to scale horizontally, allowing for easy distribution of data across multiple servers. This makes it well-suited for handling large amounts of data and high traffic.\n",
    "\n",
    "Flexible Schema: MongoDB's schema-less design allows for dynamic and evolving data structures. This flexibility is advantageous in situations where the data model is subject to frequent changes.\n",
    "\n",
    "Complex Data Structures: MongoDB supports complex data structures like nested arrays and documents, making it suitable for applications that deal with hierarchical or nested data.\n",
    "\n",
    "Development Speed: For certain types of applications, especially those in which the development cycle is rapid and requirements evolve quickly, MongoDB's agile schema and JSON-like documents can lead to faster development.\n",
    "\n",
    "Horizontal Scaling: MongoDB excels in distributed and horizontally scalable architectures. It supports sharding, which involves dividing a large dataset across multiple servers, enabling better performance and resource utilization.\n",
    "\n",
    "Unstructured Data: If your application deals with unstructured or semi-structured data, MongoDB provides an efficient and scalable solution without the constraints of a fixed schema.\n",
    "\n",
    "It's important to note that the choice between MongoDB and SQL databases often depends on the specific requirements and characteristics of the project. SQL databases may be preferable for applications with a well-defined and stable schema, complex relationships, and a need for ACID (Atomicity, Consistency, Isolation, Durability) compliance. NoSQL databases like MongoDB, on the other hand, are favored in scenarios where flexibility, scalability, and speed of development are critical factors.\n",
    "\"\"\""
   ]
  }
 ],
 "metadata": {
  "kernelspec": {
   "display_name": "Python 3 (ipykernel)",
   "language": "python",
   "name": "python3"
  },
  "language_info": {
   "codemirror_mode": {
    "name": "ipython",
    "version": 3
   },
   "file_extension": ".py",
   "mimetype": "text/x-python",
   "name": "python",
   "nbconvert_exporter": "python",
   "pygments_lexer": "ipython3",
   "version": "3.10.8"
  }
 },
 "nbformat": 4,
 "nbformat_minor": 5
}
