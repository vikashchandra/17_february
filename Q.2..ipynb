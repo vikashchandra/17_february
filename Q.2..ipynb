{
 "cells": [
  {
   "cell_type": "code",
   "execution_count": null,
   "id": "04518464-e3ca-4854-9f28-3ca858384335",
   "metadata": {},
   "outputs": [],
   "source": [
    "\"\"\"\n",
    "Q2. State and Explain the features of MongoDB.\n",
    "\"\"\""
   ]
  },
  {
   "cell_type": "code",
   "execution_count": null,
   "id": "b26f6726-1602-47ca-ac33-db3f48708431",
   "metadata": {},
   "outputs": [],
   "source": [
    "\"\"\"\n",
    "Ans-MongoDB is a feature-rich NoSQL database management system that offers a range of capabilities. Here are some key features of MongoDB:\n",
    "\n",
    "Document-Oriented: MongoDB stores data in flexible, JSON-like BSON (Binary JSON) documents. Each document can have a different structure, which allows for dynamic and polymorphic data.\n",
    "\n",
    "Schema-less Design: Unlike traditional relational databases, MongoDB doesn't enforce a fixed schema. This flexibility enables developers to evolve the data model over time without requiring a predefined schema.\n",
    "\n",
    "Indexing: MongoDB supports indexing to improve query performance. Indexes can be created on any field, including fields within arrays and embedded documents.\n",
    "\n",
    "Query Language: MongoDB provides a rich query language that supports a wide range of queries, including field queries, range queries, and regular expression searches. It also supports geospatial queries for location-based data.\n",
    "\n",
    "Aggregation Framework: MongoDB's aggregation framework allows for advanced data processing and transformation within the database. It supports operations like filtering, grouping, sorting, and projecting, making it powerful for analytics and reporting.\n",
    "\n",
    "Horizontal Scalability: MongoDB is designed to scale horizontally, enabling the distribution of data across multiple servers or clusters. Sharding is a key feature that allows the distribution of data across multiple machines for improved performance and capacity.\n",
    "\n",
    "Replication: MongoDB supports replica sets, providing high availability and fault tolerance. In a replica set, multiple copies of the data are maintained across different servers. If one server fails, another can take over, ensuring continuous availability.\n",
    "\n",
    "Automatic Balancing: MongoDB automatically balances data across sharded clusters, ensuring even distribution and optimal use of resources. This helps in maintaining a consistent performance level as the data grows.\n",
    "\n",
    "Document Validation: MongoDB allows the definition of JSON Schema to enforce data validation rules at the database level. This ensures that data adheres to specific standards and constraints.\n",
    "\n",
    "Security Features: MongoDB provides various security features, including authentication, authorization, encryption, and auditing. Users can be authenticated against a database, and access control can be configured to restrict user permissions.\n",
    "\n",
    "GridFS: MongoDB includes GridFS, a specification for storing and retrieving large files such as images, videos, and audio files. It allows for efficient storage and retrieval of files that exceed the BSON document size limit.\n",
    "\n",
    "Change Streams: MongoDB supports change streams, which allow applications to receive real-time notifications about changes in the database. This feature is useful for building reactive and event-driven applications.\n",
    "\n",
    "These features collectively contribute to MongoDB's popularity and make it suitable for a wide range of applications, from simple prototypes to large-scale, distributed systems. The flexibility, scalability, and ease of development are key reasons why developers choose MongoDB for certain use cases.\n",
    "\"\"\"\n"
   ]
  }
 ],
 "metadata": {
  "kernelspec": {
   "display_name": "Python 3 (ipykernel)",
   "language": "python",
   "name": "python3"
  },
  "language_info": {
   "codemirror_mode": {
    "name": "ipython",
    "version": 3
   },
   "file_extension": ".py",
   "mimetype": "text/x-python",
   "name": "python",
   "nbconvert_exporter": "python",
   "pygments_lexer": "ipython3",
   "version": "3.10.8"
  }
 },
 "nbformat": 4,
 "nbformat_minor": 5
}
