{
 "cells": [
  {
   "cell_type": "code",
   "execution_count": null,
   "id": "98167f19-df53-4e1a-bee2-06d018aa1646",
   "metadata": {},
   "outputs": [],
   "source": [
    "\"\"\"\n",
    "Q6. Explain the sort() method. Give an example to demonstrate sorting in MongoDB.\n",
    "\"\"\""
   ]
  },
  {
   "cell_type": "code",
   "execution_count": null,
   "id": "f528950a-f7ce-41f0-90f9-8151d9b07e19",
   "metadata": {},
   "outputs": [],
   "source": [
    "\"\"\"\n",
    "Ans-\n",
    "the sort() method is a built-in method for lists. It sorts the elements of a list in-place, meaning it modifies the original list. The sort() method takes two optional parameters: key and reverse.\n",
    "\n",
    "Here's a basic example of using sort() in Python:\n",
    "\"\"\"\n",
    "\n",
    "numbers = [4, 1, 7, 3, 9, 2]\n",
    "numbers.sort()  # Sort the list in ascending order\n",
    "print(numbers)  # Output: [1, 2, 3, 4, 7, 9]\n",
    "\n",
    "numbers.sort(reverse=True)  # Sort the list in descending order\n",
    "print(numbers)  # Output: [9, 7, 4, 3, 2, 1]\n",
    "\"\"\"\n",
    "Now, let's move on to MongoDB's sort() method. In MongoDB, the sort() method is used to sort documents in a collection based on one or more fields. It was covered in the previous response.\n",
    "\n",
    "Here's an example to demonstrate sorting in MongoDB:\n",
    "\n",
    "Suppose you have a MongoDB collection named \"students\" with documents like this:\n",
    "\"\"\"\n",
    "\n",
    "{ \"_id\": 1, \"name\": \"Alice\", \"age\": 25, \"grade\": \"A\" }\n",
    "{ \"_id\": 2, \"name\": \"Bob\", \"age\": 22, \"grade\": \"B\" }\n",
    "{ \"_id\": 3, \"name\": \"Charlie\", \"age\": 28, \"grade\": \"C\" }\n",
    "\n",
    "\"\"\"\n",
    "You can use the sort() method to retrieve documents sorted by age in ascending order:\n",
    "\"\"\"\n",
    "\n",
    "import pymongo\n",
    "\n",
    "# Connect to MongoDB\n",
    "client = pymongo.MongoClient(\"mongodb://localhost:27017/\")\n",
    "db = client[\"your_database_name\"]\n",
    "collection = db[\"students\"]\n",
    "\n",
    "# Find and sort documents\n",
    "result = collection.find().sort(\"age\", pymongo.ASCENDING)\n",
    "\n",
    "# Print the sorted documents\n",
    "for doc in result:\n",
    "    print(doc)\n",
    "\n",
    "\"\"\"\n",
    "This will print:\n",
    "\"\"\"\n",
    "{ \"_id\": 2, \"name\": \"Bob\", \"age\": 22, \"grade\": \"B\" }\n",
    "{ \"_id\": 1, \"name\": \"Alice\", \"age\": 25, \"grade\": \"A\" }\n",
    "{ \"_id\": 3, \"name\": \"Charlie\", \"age\": 28, \"grade\": \"C\" }\n",
    "#You can customize the sorting order and use multiple fields for sorting as needed."
   ]
  }
 ],
 "metadata": {
  "kernelspec": {
   "display_name": "Python 3 (ipykernel)",
   "language": "python",
   "name": "python3"
  },
  "language_info": {
   "codemirror_mode": {
    "name": "ipython",
    "version": 3
   },
   "file_extension": ".py",
   "mimetype": "text/x-python",
   "name": "python",
   "nbconvert_exporter": "python",
   "pygments_lexer": "ipython3",
   "version": "3.10.8"
  }
 },
 "nbformat": 4,
 "nbformat_minor": 5
}
