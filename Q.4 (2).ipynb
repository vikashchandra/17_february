{
 "cells": [
  {
   "cell_type": "code",
   "execution_count": null,
   "id": "c39ad1bb-dc7f-47bd-8f1b-5fadbbd5cb7e",
   "metadata": {},
   "outputs": [],
   "source": [
    "\"\"\"\n",
    "Q4. Using the database and the collection created in question number 3, write a code to insert one record,\n",
    "and insert many records. Use the find() and find_one() methods to print the inserted record.\n",
    "\"\"\""
   ]
  },
  {
   "cell_type": "code",
   "execution_count": null,
   "id": "7d59ff19-0700-4e08-9783-b9cb92fa5150",
   "metadata": {},
   "outputs": [],
   "source": [
    "\"\"\"\n",
    "Ans-\n",
    "you can use a programming language like Python to interact with it. Below is an example code using the PyMongo library for Python. Make sure to install PyMongo first:\n",
    "\n",
    "\"\"\"\n",
    "pip install pymongo\n",
    "\"\"\"\n",
    "Now, assuming you have a MongoDB server running and\n",
    "your database and collection are set up, here's an\n",
    "\"\"\"\n",
    "\n",
    "\n",
    "from pymongo import MongoClient\n",
    "\n",
    "# Connect to MongoDB\n",
    "client = MongoClient(\"mongodb://localhost:27017/\")\n",
    "\n",
    "# Select or create a database\n",
    "my_database = client[\"your_database_name\"]\n",
    "\n",
    "# Select or create a collection\n",
    "my_collection = my_database[\"your_collection_name\"]\n",
    "\n",
    "# Insert one record\n",
    "record_one = {\"name\": \"John Doe\", \"age\": 30, \"city\": \"New York\"}\n",
    "result_one = my_collection.insert_one(record_one)\n",
    "print(f\"Inserted record ID (one): {result_one.inserted_id}\")\n",
    "\n",
    "# Insert many records\n",
    "records_many = [\n",
    "    {\"name\": \"Alice Smith\", \"age\": 25, \"city\": \"San Francisco\"},\n",
    "    {\"name\": \"Bob Johnson\", \"age\": 35, \"city\": \"Los Angeles\"},\n",
    "    {\"name\": \"Eve Brown\", \"age\": 28, \"city\": \"Chicago\"}\n",
    "]\n",
    "result_many = my_collection.insert_many(records_many)\n",
    "print(f\"Inserted records IDs (many): {result_many.inserted_ids}\")\n",
    "\n",
    "# Find and print the inserted records\n",
    "print(\"Inserted record (one):\")\n",
    "print(my_collection.find_one({\"_id\": result_one.inserted_id}))\n",
    "\n",
    "print(\"\\nInserted records (many):\")\n",
    "for record_id in result_many.inserted_ids:\n",
    "    print(my_collection.find_one({\"_id\": record_id}))\n",
    "\n",
    "\n",
    "\"\"\"\n",
    "Make sure to replace \"your_database_name\" and\n",
    "\"your_collection_name\" with the actual names of your\n",
    "database and collection. This code demonstrates how\n",
    "to insert one record, insert many records, and use\n",
    "find_one() to retrieve and print the inserted\n",
    "records.\n",
    "\"\"\""
   ]
  }
 ],
 "metadata": {
  "kernelspec": {
   "display_name": "Python 3 (ipykernel)",
   "language": "python",
   "name": "python3"
  },
  "language_info": {
   "codemirror_mode": {
    "name": "ipython",
    "version": 3
   },
   "file_extension": ".py",
   "mimetype": "text/x-python",
   "name": "python",
   "nbconvert_exporter": "python",
   "pygments_lexer": "ipython3",
   "version": "3.10.8"
  }
 },
 "nbformat": 4,
 "nbformat_minor": 5
}
