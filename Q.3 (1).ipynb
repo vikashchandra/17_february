{
 "cells": [
  {
   "cell_type": "code",
   "execution_count": null,
   "id": "fe881154-d88a-4cd2-81cd-38635dd38bdb",
   "metadata": {},
   "outputs": [],
   "source": [
    "\"\"\"\n",
    "Q3. Write a code to connect MongoDB to Python. Also, create a database and a collection in MongoDB.\n",
    "\"\"\""
   ]
  },
  {
   "cell_type": "code",
   "execution_count": null,
   "id": "23acb1cb-2936-44d1-af88-b7ba728ec7aa",
   "metadata": {},
   "outputs": [
    {
     "data": {
      "text/plain": [
       "'\\nAns-\\nTo connect MongoDB to Python, you can use the official MongoDB driver for Python called pymongo. Before you run the code, make sure you have the pymongo library installed. You can install it using:\\n\\nbash\\n'"
      ]
     },
     "execution_count": 1,
     "metadata": {},
     "output_type": "execute_result"
    }
   ],
   "source": [
    "\"\"\"\n",
    "Ans-\n",
    "To connect MongoDB to Python, you can use the official MongoDB driver for Python called pymongo. Before you run the code, make sure you have the pymongo library installed. You can install it using:\n",
    "\n",
    "bash\n",
    "\"\"\""
   ]
  },
  {
   "cell_type": "code",
   "execution_count": 2,
   "id": "c3ac98e8-eb98-44cf-b930-ad081dccf75f",
   "metadata": {},
   "outputs": [
    {
     "name": "stdout",
     "output_type": "stream",
     "text": [
      "Requirement already satisfied: pymongo in /opt/conda/lib/python3.10/site-packages (4.6.1)\n",
      "Requirement already satisfied: dnspython<3.0.0,>=1.16.0 in /opt/conda/lib/python3.10/site-packages (from pymongo) (2.4.2)\n",
      "Note: you may need to restart the kernel to use updated packages.\n"
     ]
    }
   ],
   "source": [
    "pip install pymongo\n"
   ]
  },
  {
   "cell_type": "code",
   "execution_count": null,
   "id": "2e93c421-89b6-4853-96e7-0ab7fd7c1be5",
   "metadata": {},
   "outputs": [],
   "source": [
    "\"\"\"\n",
    "Now, let's create a simple Python script to connect to MongoDB, create a database, and a collection:\n",
    "\"\"\"\n",
    "import pymongo\n",
    "\n",
    "# MongoDB connection string (replace <username>, <password>, and <cluster_name> with your actual values)\n",
    "# If your MongoDB instance is local, use \"mongodb://localhost:27017/\"\n",
    "mongo_uri = \"mongodb+srv://<username>:<password>@<cluster_name>.mongodb.net/test?retryWrites=true&w=majority\"\n",
    "\n",
    "# Connect to MongoDB\n",
    "client = pymongo.MongoClient(mongo_uri)\n",
    "\n",
    "# Create or get a database (replace \"mydatabase\" with your preferred database name)\n",
    "database_name = \"mydatabase\"\n",
    "db = client[database_name]\n",
    "\n",
    "# Create or get a collection within the database (replace \"mycollection\" with your preferred collection name)\n",
    "collection_name = \"mycollection\"\n",
    "collection = db[collection_name]\n",
    "\n",
    "# Insert a document into the collection\n",
    "document = {\"name\": \"John Doe\", \"age\": 30, \"city\": \"Example City\"}\n",
    "insert_result = collection.insert_one(document)\n",
    "print(\"Document inserted with ID:\", insert_result.inserted_id)\n",
    "\n",
    "# Query all documents in the collection\n",
    "documents = collection.find()\n",
    "print(\"All documents in the collection:\")\n",
    "for doc in documents:\n",
    "    print(doc)\n",
    "\n",
    "# Close the MongoDB connection\n",
    "client.close()\n",
    "\"\"\"\n",
    "Make sure to replace <username>, <password>, and <cluster_name> with your actual MongoDB Atlas cluster credentials.\n",
    "\n",
    "\n",
    "We establish a connection to MongoDB using the pymongo.MongoClient class.\n",
    "We create or retrieve a database using client[database_name].\n",
    "We create or retrieve a collection within the database using db[collection_name].\n",
    "We insert a document into the collection using insert_one.\n",
    "We query all documents in the collection using find.\n",
    "Remember to handle your MongoDB credentials securely, especially in production environments. Consider using environment variables or a configuration file for storing sensitive information.\n",
    "\n",
    "This script provides a basic foundation for connecting to MongoDB and performing common operations. Depending on your application, you may need to add error handling, implement more sophisticated queries, or perform other database operations.\n",
    "\"\"\""
   ]
  }
 ],
 "metadata": {
  "kernelspec": {
   "display_name": "Python 3 (ipykernel)",
   "language": "python",
   "name": "python3"
  },
  "language_info": {
   "codemirror_mode": {
    "name": "ipython",
    "version": 3
   },
   "file_extension": ".py",
   "mimetype": "text/x-python",
   "name": "python",
   "nbconvert_exporter": "python",
   "pygments_lexer": "ipython3",
   "version": "3.10.8"
  }
 },
 "nbformat": 4,
 "nbformat_minor": 5
}
